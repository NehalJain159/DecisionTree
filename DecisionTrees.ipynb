{
 "cells": [
  {
   "cell_type": "code",
   "execution_count": 54,
   "metadata": {},
   "outputs": [],
   "source": [
    "import pandas as pd\n",
    "import numpy as np\n",
    "import matplotlib.pyplot as plt\n",
    "import random"
   ]
  },
  {
   "cell_type": "code",
   "execution_count": 59,
   "metadata": {},
   "outputs": [
    {
     "data": {
      "text/html": [
       "<div>\n",
       "<style scoped>\n",
       "    .dataframe tbody tr th:only-of-type {\n",
       "        vertical-align: middle;\n",
       "    }\n",
       "\n",
       "    .dataframe tbody tr th {\n",
       "        vertical-align: top;\n",
       "    }\n",
       "\n",
       "    .dataframe thead th {\n",
       "        text-align: right;\n",
       "    }\n",
       "</style>\n",
       "<table border=\"1\" class=\"dataframe\">\n",
       "  <thead>\n",
       "    <tr style=\"text-align: right;\">\n",
       "      <th></th>\n",
       "      <th>variance of Wavelet Transformed image(WTI)</th>\n",
       "      <th>skewness of WTI</th>\n",
       "      <th>kurtosis of WTI</th>\n",
       "      <th>entropy of image</th>\n",
       "      <th>class</th>\n",
       "    </tr>\n",
       "  </thead>\n",
       "  <tbody>\n",
       "    <tr>\n",
       "      <th>666</th>\n",
       "      <td>1.2262</td>\n",
       "      <td>0.89599</td>\n",
       "      <td>5.7568</td>\n",
       "      <td>-0.11596</td>\n",
       "      <td>0</td>\n",
       "    </tr>\n",
       "    <tr>\n",
       "      <th>1213</th>\n",
       "      <td>-2.6200</td>\n",
       "      <td>-6.85550</td>\n",
       "      <td>6.2169</td>\n",
       "      <td>-0.62285</td>\n",
       "      <td>1</td>\n",
       "    </tr>\n",
       "    <tr>\n",
       "      <th>129</th>\n",
       "      <td>3.4663</td>\n",
       "      <td>1.11120</td>\n",
       "      <td>1.7425</td>\n",
       "      <td>1.33880</td>\n",
       "      <td>0</td>\n",
       "    </tr>\n",
       "    <tr>\n",
       "      <th>944</th>\n",
       "      <td>-2.1210</td>\n",
       "      <td>-0.05588</td>\n",
       "      <td>1.9490</td>\n",
       "      <td>1.35300</td>\n",
       "      <td>1</td>\n",
       "    </tr>\n",
       "    <tr>\n",
       "      <th>909</th>\n",
       "      <td>-1.7322</td>\n",
       "      <td>-9.28280</td>\n",
       "      <td>7.7190</td>\n",
       "      <td>-1.71680</td>\n",
       "      <td>1</td>\n",
       "    </tr>\n",
       "  </tbody>\n",
       "</table>\n",
       "</div>"
      ],
      "text/plain": [
       "      variance of Wavelet Transformed image(WTI)  skewness of WTI  \\\n",
       "666                                       1.2262          0.89599   \n",
       "1213                                     -2.6200         -6.85550   \n",
       "129                                       3.4663          1.11120   \n",
       "944                                      -2.1210         -0.05588   \n",
       "909                                      -1.7322         -9.28280   \n",
       "\n",
       "      kurtosis of WTI  entropy of image  class  \n",
       "666            5.7568          -0.11596      0  \n",
       "1213           6.2169          -0.62285      1  \n",
       "129            1.7425           1.33880      0  \n",
       "944            1.9490           1.35300      1  \n",
       "909            7.7190          -1.71680      1  "
      ]
     },
     "execution_count": 59,
     "metadata": {},
     "output_type": "execute_result"
    }
   ],
   "source": [
    "df=pd.read_csv('data_banknote_authentication.txt')\n",
    "df=df.sample(frac=1)\n",
    "df.head(5)"
   ]
  },
  {
   "cell_type": "code",
   "execution_count": 52,
   "metadata": {},
   "outputs": [
    {
     "data": {
      "text/plain": [
       "(1372, 5)"
      ]
     },
     "execution_count": 52,
     "metadata": {},
     "output_type": "execute_result"
    }
   ],
   "source": [
    "df.shape"
   ]
  },
  {
   "cell_type": "code",
   "execution_count": 5,
   "metadata": {},
   "outputs": [
    {
     "name": "stdout",
     "output_type": "stream",
     "text": [
      "<class 'pandas.core.frame.DataFrame'>\n",
      "RangeIndex: 1372 entries, 0 to 1371\n",
      "Data columns (total 5 columns):\n",
      "variance of Wavelet Transformed image(WTI)    1372 non-null float64\n",
      "skewness of WTI                               1372 non-null float64\n",
      "kurtosis of WTI                               1372 non-null float64\n",
      "entropy of image                              1372 non-null float64\n",
      "class                                         1372 non-null int64\n",
      "dtypes: float64(4), int64(1)\n",
      "memory usage: 53.7 KB\n"
     ]
    }
   ],
   "source": [
    "df.info()"
   ]
  },
  {
   "cell_type": "code",
   "execution_count": 6,
   "metadata": {},
   "outputs": [
    {
     "data": {
      "text/plain": [
       "0    762\n",
       "1    610\n",
       "Name: class, dtype: int64"
      ]
     },
     "execution_count": 6,
     "metadata": {},
     "output_type": "execute_result"
    }
   ],
   "source": [
    "df['class'].value_counts()"
   ]
  },
  {
   "cell_type": "code",
   "execution_count": 7,
   "metadata": {},
   "outputs": [
    {
     "data": {
      "text/plain": [
       "variance of Wavelet Transformed image(WTI)   -0.724843\n",
       "skewness of WTI                              -0.444688\n",
       "kurtosis of WTI                               0.155883\n",
       "entropy of image                             -0.023424\n",
       "class                                         1.000000\n",
       "Name: class, dtype: float64"
      ]
     },
     "execution_count": 7,
     "metadata": {},
     "output_type": "execute_result"
    }
   ],
   "source": [
    "df.corr(method='pearson')['class']"
   ]
  },
  {
   "cell_type": "code",
   "execution_count": 8,
   "metadata": {},
   "outputs": [],
   "source": [
    "from sklearn.metrics import accuracy_score"
   ]
  },
  {
   "cell_type": "code",
   "execution_count": 9,
   "metadata": {},
   "outputs": [],
   "source": [
    "def split_in_grps(train,attribute,value):\n",
    "    left=list()\n",
    "    right=list()\n",
    "    for i in range(train.shape[0]):\n",
    "        if(train[attribute].iloc[i]>=value):\n",
    "            right.append(list(train.iloc[i]))\n",
    "        else:\n",
    "            left.append(list(train.iloc[i]))\n",
    "#Since we are dealing in dataFrames for whole of our algo,we would convert the lists hence found to dataframe\n",
    "    left=pd.DataFrame(left,columns=list(train))\n",
    "    right=pd.DataFrame(right,columns=list(train))\n",
    "    return left,right"
   ]
  },
  {
   "cell_type": "code",
   "execution_count": 62,
   "metadata": {},
   "outputs": [],
   "source": [
    "def giniScore(groups,class_values):\n",
    "    #GiniScore is calculated just by the concept of confusion_matrix and weighted avg.\n",
    "    total_rows=float(sum([group.shape[0] for group in groups]))\n",
    "    gini=0.0\n",
    "    for group in groups:\n",
    "        size = len(group)\n",
    "        fsize=float(size)\n",
    "        # avoid divide by zero\n",
    "        if size == 0:\n",
    "            continue\n",
    "        score=0.0\n",
    "        for class_ in class_values:\n",
    "            p=[group.iloc[i,-1] for i in range(size)].count(class_)/fsize\n",
    "            score+=p*p\n",
    "        gini+=(1-score)*(fsize/total_rows)\n",
    "    return gini"
   ]
  },
  {
   "cell_type": "code",
   "execution_count": 11,
   "metadata": {},
   "outputs": [],
   "source": [
    "#This function would finally give the ans \n",
    "def to_terminal(group):\n",
    "    outcomes=[group.iloc[i,-1] for i in range(group.shape[0])]\n",
    "    return max(set(outcomes), key=outcomes.count)"
   ]
  },
  {
   "cell_type": "code",
   "execution_count": 12,
   "metadata": {},
   "outputs": [],
   "source": [
    "def split(node,max_depth,min_entry,curr_depth):\n",
    "    #To split the tree or mark it as terminal node\n",
    "    left,right=node['groups']\n",
    "    \n",
    "    #Dividion results in either the left node or right node being totally empty\n",
    "    if(left.shape[0]==0 or right.shape[0]==0):\n",
    "        node['left']=node['right']=to_terminal(pd.concat([left,right]))\n",
    "        return\n",
    "    #when we reached the max_depth\n",
    "    if(curr_depth>=max_depth):\n",
    "        node['left'],node['right']=to_terminal(left),to_terminal(right)\n",
    "        return\n",
    "    \n",
    "    #further splitting the left node\n",
    "    if len(left) <= min_entry:\n",
    "        node['left'] = to_terminal(left)\n",
    "    else:\n",
    "        node['left'] = get_Best_split(left)\n",
    "        split(node['left'], max_depth, min_entry,curr_depth+1)\n",
    "        # process right child\n",
    "    if len(right) <= min_entry:\n",
    "        node['right'] = to_terminal(right)\n",
    "    else:\n",
    "        node['right'] = get_Best_split(right)\n",
    "        split(node['right'], max_depth, min_entry,curr_depth+1)"
   ]
  },
  {
   "cell_type": "code",
   "execution_count": 63,
   "metadata": {},
   "outputs": [],
   "source": [
    "#We would check every attribute and every value as a chance of best split and would return a dictionary of attribute\n",
    "#values and groups hence splitted\n",
    "def get_Best_split(train):\n",
    "    att=list(train)\n",
    "    class_values=[0,1]\n",
    "    examples=train.shape[0]\n",
    "    b_index, b_value, b_score, b_groups = 999, 999, 999, None\n",
    "    \n",
    "    for j in range(len(att)-1):\n",
    "        for i in range(examples):\n",
    "            groups=split_in_grps(train,att[j],train.iloc[i,j])\n",
    "            gini=giniScore(groups,class_values)\n",
    "            if(gini<b_score):\n",
    "                b_score=gini\n",
    "                b_index,b_value,b_groups=att[j],train.iloc[i,j],groups\n",
    "        return {'index':b_index, 'value':b_value, 'groups':b_groups}"
   ]
  },
  {
   "cell_type": "code",
   "execution_count": 14,
   "metadata": {},
   "outputs": [],
   "source": [
    "#Tree is built by first finding out the right split in terms of attribute and value,than it's subdivided child are\n",
    "#processed and the process is repeated.\n",
    "def build_tree(train,max_depth,min_entry):\n",
    "    root=get_Best_split(train)\n",
    "    #Dividing root now\n",
    "    split(root,max_depth,min_entry,1)\n",
    "    return root"
   ]
  },
  {
   "cell_type": "code",
   "execution_count": 15,
   "metadata": {},
   "outputs": [],
   "source": [
    "# Predicting the class for test dataset\n",
    "def predict(row,tree):\n",
    "    if(row[tree['index']]>=tree['value']):\n",
    "        if(isinstance(tree['right'],dict)):\n",
    "            return predict(row,tree['right'])\n",
    "        else:\n",
    "            return tree['right']\n",
    "    else:\n",
    "        if(isinstance(tree['left'],dict)):\n",
    "            return predict(row,tree['left'])\n",
    "        else:\n",
    "            return tree['left']"
   ]
  },
  {
   "cell_type": "code",
   "execution_count": 16,
   "metadata": {},
   "outputs": [],
   "source": [
    "def decision_tree(train,test,max_depth,min_entry):\n",
    "    tree=build_tree(train,max_depth,min_entry)\n",
    "    predictions=list()\n",
    "    for i in range(test.shape[0]):\n",
    "        ans=predict(test.iloc[i],tree)\n",
    "        predictions.append(ans)\n",
    "    return predictions"
   ]
  },
  {
   "cell_type": "code",
   "execution_count": 60,
   "metadata": {},
   "outputs": [],
   "source": [
    "def evaluate(df,decision_tree,n_folds,max_depth,min_entry):\n",
    "    AccuracyList=list()\n",
    "    nSets=df.shape[0]/n_folds\n",
    "    start=0\n",
    "    for fold in range(n_folds):\n",
    "        train=df.iloc[:]\n",
    "        test=df.iloc[start:start+nSets,:]\n",
    "        cond=train.index.isin(test.index)\n",
    "        train.drop(train[cond].index,inplace=True)\n",
    "        start=start+nSets\n",
    "        ans=test['class']\n",
    "        test.drop('class',axis=1,inplace=True)\n",
    "        \n",
    "        predictions=decision_tree(train,test,max_depth,min_entry)\n",
    "        accuracy=accuracy_score(ans,predictions)\n",
    "        AccuracyList.append(accuracy)\n",
    "        print(accuracy)\n",
    "    return sum(AccuracyList)/len(AccuracyList)        "
   ]
  },
  {
   "cell_type": "code",
   "execution_count": 64,
   "metadata": {},
   "outputs": [
    {
     "name": "stdout",
     "output_type": "stream",
     "text": [
      "0.8138686131386861\n",
      "0.8321167883211679\n",
      "0.8576642335766423\n",
      "0.8138686131386861\n",
      "0.8576642335766423\n"
     ]
    }
   ],
   "source": [
    "n_folds=5\n",
    "max_depth=5\n",
    "min_entry=10\n",
    "scores=evaluate(df,decision_tree,n_folds,max_depth,min_entry)"
   ]
  },
  {
   "cell_type": "code",
   "execution_count": 65,
   "metadata": {},
   "outputs": [
    {
     "name": "stdout",
     "output_type": "stream",
     "text": [
      "0.8350364963503649\n"
     ]
    }
   ],
   "source": [
    "print(scores)"
   ]
  },
  {
   "cell_type": "code",
   "execution_count": 67,
   "metadata": {},
   "outputs": [],
   "source": [
    "from sklearn import tree\n",
    "from sklearn.tree import DecisionTreeClassifier"
   ]
  },
  {
   "cell_type": "code",
   "execution_count": 68,
   "metadata": {},
   "outputs": [
    {
     "name": "stdout",
     "output_type": "stream",
     "text": [
      "0.9817518248175182\n",
      "0.9562043795620438\n",
      "0.9635036496350365\n",
      "0.9598540145985401\n",
      "0.9781021897810219\n",
      "0.9678832116788321\n"
     ]
    }
   ],
   "source": [
    "n_folds=5\n",
    "nSets=df.shape[0]/n_folds\n",
    "start=0\n",
    "AccuracyList=list()\n",
    "for fold in range(n_folds):\n",
    "    train=df.iloc[:]\n",
    "    test=df.iloc[start:start+nSets,:]\n",
    "    cond=train.index.isin(test.index)\n",
    "    train.drop(train[cond].index,inplace=True)\n",
    "    start=start+nSets\n",
    "    ans=test['class']\n",
    "    test.drop('class',axis=1,inplace=True)\n",
    "    \n",
    "    model=DecisionTreeClassifier(criterion='gini',splitter='best',max_depth=5,min_samples_leaf=5)\n",
    "    model.fit(train.drop('class',axis=1,inplace=False),train['class'])\n",
    "    predictions=model.predict(test)\n",
    "    \n",
    "    accuracy=accuracy_score(ans,predictions)\n",
    "    AccuracyList.append(accuracy)\n",
    "    print(accuracy)\n",
    "print(sum(AccuracyList)/len(AccuracyList))   "
   ]
  },
  {
   "cell_type": "code",
   "execution_count": 69,
   "metadata": {},
   "outputs": [],
   "source": [
    "#Using Random Forests\n",
    "from sklearn.ensemble import RandomForestClassifier"
   ]
  },
  {
   "cell_type": "code",
   "execution_count": 70,
   "metadata": {},
   "outputs": [
    {
     "name": "stdout",
     "output_type": "stream",
     "text": [
      "0.9927007299270073\n",
      "0.9890510948905109\n",
      "0.9927007299270073\n",
      "0.9963503649635036\n",
      "0.9963503649635036\n",
      "0.9934306569343067\n"
     ]
    }
   ],
   "source": [
    "n_folds=5\n",
    "nSets=df.shape[0]/n_folds\n",
    "start=0\n",
    "AccuracyList=list()\n",
    "for fold in range(n_folds):\n",
    "    train=df.iloc[:]\n",
    "    test=df.iloc[start:start+nSets,:]\n",
    "    cond=train.index.isin(test.index)\n",
    "    train.drop(train[cond].index,inplace=True)\n",
    "    start=start+nSets\n",
    "    ans=test['class']\n",
    "    test.drop('class',axis=1,inplace=True)\n",
    "    \n",
    "    model = RandomForestClassifier(n_estimators=10, \n",
    "                               bootstrap = True,\n",
    "                               max_features = 'sqrt')\n",
    "    # Fit on training data\n",
    "    model.fit(train.drop('class',axis=1,inplace=False),train['class'])\n",
    "    predictions=model.predict(test)\n",
    "    \n",
    "    accuracy=accuracy_score(ans,predictions)\n",
    "    AccuracyList.append(accuracy)\n",
    "    print(accuracy)\n",
    "print(sum(AccuracyList)/len(AccuracyList))   \n"
   ]
  }
 ],
 "metadata": {
  "kernelspec": {
   "display_name": "Python 2",
   "language": "python",
   "name": "python2"
  },
  "language_info": {
   "codemirror_mode": {
    "name": "ipython",
    "version": 2
   },
   "file_extension": ".py",
   "mimetype": "text/x-python",
   "name": "python",
   "nbconvert_exporter": "python",
   "pygments_lexer": "ipython2",
   "version": "2.7.17"
  }
 },
 "nbformat": 4,
 "nbformat_minor": 2
}
